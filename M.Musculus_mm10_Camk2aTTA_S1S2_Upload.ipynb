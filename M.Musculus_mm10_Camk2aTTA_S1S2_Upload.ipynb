{
 "cells": [
  {
   "cell_type": "markdown",
   "id": "68ee3484",
   "metadata": {},
   "source": [
    "# M.Musculus_mm10_Camk2aTTA_S1S2  \n",
    "\n",
    "## Custom genome reference for 10X CellRanger: \n",
    "\n",
    "## B6_Tg_Camk2a_tTA_S1_S2 "
   ]
  },
  {
   "cell_type": "markdown",
   "id": "f9ecbf68",
   "metadata": {},
   "source": [
    "_v2.0_ \n",
    "\n",
    "_VG 12.02.23_ "
   ]
  },
  {
   "cell_type": "markdown",
   "id": "1c04044d",
   "metadata": {},
   "source": [
    "Here, a custom _mus musculus_ genome reference is generated for use with 10X genomics pipelines (CellRanger, SpaceRanger) that includes transgenic sequences of both transgenes in the double-transgenic B6/Tg Camk2a-tTA S1-S2 (alpha-synculein) mice. \n",
    "Transgenic sequences have to be included for an accurate quantification of the transgene-specific gene expression. "
   ]
  },
  {
   "cell_type": "markdown",
   "id": "5cdb1b89",
   "metadata": {},
   "source": [
    "### 1.  Generation of transgene sequences "
   ]
  },
  {
   "cell_type": "markdown",
   "id": "08947b03",
   "metadata": {},
   "source": [
    "Two transgenes are included in a double-transgenic B6/Tg Camk2a-tTa S1-S2 mouse: \n",
    "\n",
    "- The tetracycline-transactivator (protein) under the control of the Camk2a promoter  \n",
    "- The split-hGLuc (humanized Gaussia Princeps Luciferase) -Synculein transgene under the control of the tRE promoter  \n",
    "\n",
    "\n",
    "#### Camk2a-tTA transgene: \n",
    "\n",
    "The tTA driver mouse strain is commercially available from The Jackson Laboratory (https://www.jax.org/strain/007004). Even though the transgene generation, structure and localization (Chr. 12) are well-described in the JAX documentation, the transgene sequence is not provided neither from JAX, nor in the original (and follow-up) publications: https://pubmed.ncbi.nlm.nih.gov/8939850/  \n",
    "\n",
    "Therefore, a sequence found in the NCBI Nucleotide collection will be used here: \n",
    "https://www.ncbi.nlm.nih.gov/nuccore/%20MK674482  \n",
    "\n",
    "Its description fits to the original description of the Camk2a-tTA mouse transgene: an artificial intron incorporating splice sites at 5'-end and SV40 polyadenulation signal at the 3'end.  \n",
    "\n",
    "**Including the 5' UTR and 3' UTR is essential for 10X GEX quantification, which captures transcripts with high coverage at the 5' UTR or 3' UTR based on the chemistry.** In addition, the mouse SNCA CDS and the human SNCA CDS are very highly conserved, therefore transgene reads can be more reliably capruted with the 5'UTR and 3'UTR which differ significantly. "
   ]
  },
  {
   "cell_type": "markdown",
   "id": "46a93356",
   "metadata": {},
   "source": [
    "The Camk2a-tTA transgene FASTA was downloaded from: \n",
    "\n",
    "https://www.ncbi.nlm.nih.gov/nuccore/MK674482.1?report=fasta \n"
   ]
  },
  {
   "cell_type": "code",
   "execution_count": 1,
   "id": "efd1b7c2",
   "metadata": {
    "scrolled": true
   },
   "outputs": [
    {
     "name": "stdout",
     "output_type": "stream",
     "text": [
      ">Camk2aTTA\n",
      "GGGCGGCCTCGACGGTATCGATAAGCTTCGATCTTTTTTCCGTAAACTCAATACCAGGCTGATGTCCCAC\n",
      "CGGATCTGATGGCTTAGGGTGGCAGGGAATCTCAGTTCCCCTCAGACACTCTCCCTTTGCTGGTTCTCAG\n",
      "GGAGGAGGCAAGGTCAAGTCTTCATCTGTAGGCACGTGGAGGGAGGGCACAGAAGCCCTCAGCTGAATAG\n",
      "GGTGGGACTTGGGGAAGGGCAGCAACCAGGCTGGGTTGCCTGGGTCACAATCCTGCCTCTTTCCTGATGA\n",
      "GTTTCCTTTTTGCCCTCAGGTTACCTATAGCAGCATTCTGCCTCAATCTCACCCCTAAGATGAGCTCTGG\n",
      "TGACTTTAGGACTCCAGTGTACACATGTGTCTGGGGCCATGGCAGGGTTTCTTGCTGACCTTGTCACCTT\n",
      "CCAGACAACTTGAGTCCATGACCCTCTTTCCAGCTCTCTGTGGTGCTCTTGGATATCAGCTGGAGTATGG\n",
      "CCAGCTGGCTGCTGCTCTGTTGAACAACTCAATGAGAGAACGGACAGGGTAGGCTCTGAGAAATCTTTAC\n",
      "GTTCCTGGAGCCTCATGACTTGGGAGCCTAGTGGAATTCTTCTCTTTTGGTCCCCAACATCTGGGGGGAG\n"
     ]
    }
   ],
   "source": [
    "head Input/Camk2a_tTA.fa "
   ]
  },
  {
   "cell_type": "code",
   "execution_count": 2,
   "id": "4464ccfa",
   "metadata": {},
   "outputs": [
    {
     "name": "stdout",
     "output_type": "stream",
     "text": [
      "AGCTGCACTGCTATACAAGAAAATTATGGAAAAATATTTGATGTATAGTGCCTTGACTAGAGATCATAAT\n",
      "CAGCCATACCACATTTGTAGAGGTTTTACTTGCTTTAAAAAACCTCCCACACCTCCCCCTGAACCTGAAA\n",
      "CATAAAATGAATGCAATTGTTGTTGTTAACTTGTTTATTGCAGCTTATAATGGTTACAAATAAAGCAATA\n",
      "GCATCACAAATTTCACAAATAAAGCATTTTTTTCACTGCATTCTAGTTGTGGTTTGTCCAAACTCATCAA\n",
      "TGTATCTTATCATGTCTGGATCGATCCCGCCATGGTATCAACGCCATATTTCTATTTACAGTAGGGACCT\n",
      "CTTCGTTGTGTAGGTACCGCTGTATTCCTAGGGAAATAGTAGAGGCACCTTGAACTGTCTGCATCAGCCA\n",
      "TATAGCCCCCGCTGTTCGATTTACAAACACAGGCACAGTACTGACAAACCCATACACCTCCTCTGAAATA\n",
      "CCCATAGTTGCTAGGGCTGTCTCCGAACTCATTACACCCTCCAAAGTCAGAGCTGTAATTTCGCCATCAA\n",
      "GGGCAGCGAGGGCTTCTCCAGATAAAATAGCTTCTGCCGAGAGTCCCGTAAGGGTAGACACTTCAGCTAA\n",
      "TCCCTCGAGCGCGGCCGCCACGGTCGAGGCCGCCC"
     ]
    }
   ],
   "source": [
    "tail Input/Camk2a_tTA.fa"
   ]
  },
  {
   "cell_type": "markdown",
   "id": "585c45dc",
   "metadata": {},
   "source": [
    " - Determine total contig length: "
   ]
  },
  {
   "cell_type": "code",
   "execution_count": 3,
   "id": "c2661a40",
   "metadata": {},
   "outputs": [
    {
     "name": "stdout",
     "output_type": "stream",
     "text": [
      "10685\n"
     ]
    }
   ],
   "source": [
    "cat Input/Camk2a_tTA.fa | grep -v \"^>\"  | tr -d \"\\n\" | wc -c"
   ]
  },
  {
   "cell_type": "markdown",
   "id": "d7a69562",
   "metadata": {},
   "source": [
    "- Generate a GTF file: \n",
    "\n",
    "The original description of the transgene (link above) defines following segments: \n",
    "\n",
    "\\- 23-8018: _promoter, Camk2 promoter segment from mouse_     \n",
    "\\- 8372-9379: _gene, tTA_    \n",
    "\\- 9932-10172: _regulatory, SV40 polyA terminator region_     \n",
    "\n",
    "In addition, following features were found by inspection of the DNA sequence:  \n",
    "\n"
   ]
  },
  {
   "cell_type": "markdown",
   "id": "0b728703",
   "metadata": {},
   "source": [
    "![title](./img/Camk2a_tTA.png)"
   ]
  },
  {
   "cell_type": "markdown",
   "id": "e0ca5a9f",
   "metadata": {},
   "source": [
    "The gene will therefore be defined as 8018-10172 to include 5'UTR and 3'UTR: "
   ]
  },
  {
   "cell_type": "code",
   "execution_count": 9,
   "id": "a887baa4",
   "metadata": {},
   "outputs": [
    {
     "name": "stdout",
     "output_type": "stream",
     "text": [
      "Camk2aTTA\tVeselin\tgene\t6729\t10172\t.\t+\t.\tgene_id \"Camk2aTTA\"; gene_name \"Camk2aTTA\"; gene_biotype \"protein_coding\";\n",
      "Camk2aTTA\tVeselin\ttranscript\t8018\t10172\t.\t+\t.\tgene_id \"Camk2aTTA\"; transcript_id \"tTA\"; gene_name \"Camk2aTTA\"; transcript_name \"tTA\"; transcript_biotype \"protein_coding\"; gene_biotype \"protein_coding\";\n",
      "Camk2aTTA\tVeselin\texon\t8018\t8088\t.\t+\t.\tgene_id \"Camk2aTTA\"; transcript_id \"tTA\"; gene_name \"Camk2aTTA\"; transcript_name \"tTA\"; gene_biotype \"protein_coding\";\n",
      "Camk2aTTA\tVeselin\texon\t8319\t9550\t.\t+\t.\tgene_id \"Camk2aTTA\"; transcript_id \"tTA\"; gene_name \"Camk2aTTA\"; transcript_name \"tTA\"; gene_biotype \"protein_coding\";\n",
      "Camk2aTTA\tVeselin\texon\t9617\t10172\t.\t+\t.\tgene_id \"Camk2aTTA\"; transcript_id \"tTA\"; gene_name \"Camk2aTTA\"; transcript_name \"tTA\"; gene_biotype \"protein_coding\";\n"
     ]
    }
   ],
   "source": [
    "head Input/Camk2a_tTA.gtf"
   ]
  },
  {
   "cell_type": "markdown",
   "id": "f7c67a63",
   "metadata": {},
   "source": [
    "#### S1-S2 trangene: "
   ]
  },
  {
   "cell_type": "markdown",
   "id": "2e90c62a",
   "metadata": {},
   "source": [
    "The transgene was generated by Dr. Björn von Einem in a pBI-5 vector, linearized at both BsrBI restriction sites and injected genomic into mouse ovocytes. The exact insertion site of the transgene is not known. "
   ]
  },
  {
   "cell_type": "markdown",
   "id": "dd8df941",
   "metadata": {},
   "source": [
    "![title](img/S1S2v.png)"
   ]
  },
  {
   "cell_type": "markdown",
   "id": "188d20e0",
   "metadata": {},
   "source": [
    "The transgene consists of a linear combination of two ORFs controlled by a bidirectional, tRE promoter. Therefore, the whole linear sequence between both BsrBI restriction sites is used as genomic location, and both transcripts are included as two different transcripts in the GTF file:  "
   ]
  },
  {
   "cell_type": "code",
   "execution_count": 10,
   "id": "54d4b077",
   "metadata": {
    "scrolled": true
   },
   "outputs": [
    {
     "name": "stdout",
     "output_type": "stream",
     "text": [
      ">S1S2 \n",
      "CGGATACATATTTGAATGTATTTAGAAAAATAAACAAATAGGGGTTCCGCGCACATTTCCCCGAAAAGTGCCACCTGACAACGCAGTCGAGTTCATAAGA\n"
     ]
    }
   ],
   "source": [
    "head Input/S1S2.fa | cut -c 1-100"
   ]
  },
  {
   "cell_type": "markdown",
   "id": "1498906b",
   "metadata": {},
   "source": [
    "- Determine total contig length: "
   ]
  },
  {
   "cell_type": "code",
   "execution_count": 11,
   "id": "9a2c3238",
   "metadata": {},
   "outputs": [
    {
     "name": "stdout",
     "output_type": "stream",
     "text": [
      "4701\n"
     ]
    }
   ],
   "source": [
    "cat Input/S1S2.fa | grep -v \"^>\" |  tr -d \"\\n\" | wc -c"
   ]
  },
  {
   "cell_type": "markdown",
   "id": "518dfb31",
   "metadata": {},
   "source": [
    "- Generate a GTF file: "
   ]
  },
  {
   "cell_type": "markdown",
   "id": "fc725dc8",
   "metadata": {},
   "source": [
    "![title](img/S1S2.png)"
   ]
  },
  {
   "cell_type": "markdown",
   "id": "30fad0c0",
   "metadata": {},
   "source": [
    "Since the exact TSS is not known in this case, both transcripts will be assigned TSS at the 1st bp after TRE/pMinCMV and reach until the end of the B2G polyadenylation signal "
   ]
  },
  {
   "cell_type": "code",
   "execution_count": 16,
   "id": "e2c2aa2e",
   "metadata": {},
   "outputs": [
    {
     "name": "stdout",
     "output_type": "stream",
     "text": [
      "S1S2\tVeselin\texon\t412\t663\t.\t-\t.\tgene_id \"S1S2\"; transcript_id \"SynLuc2\"; gene_name \"S1S2\"; gene_biotype \"protein_coding\";\n",
      "S1S2\tVeselin\texon\t1237\t2153\t.\t-\t.\tgene_id \"S1S2\"; transcript_id \"SynLuc2\"; gene_name \"S1S2\"; gene_biotype \"protein_coding\";\n",
      "S1S2\tVeselin\texon\t2495\t3442\t.\t+\t.\tgene_id \"S1S2\"; transcript_id \"SynLuc1\"; gene_name \"S1S2\"; gene_biotype \"protein_coding\";\n",
      "S1S2\tVeselin\texon\t4016\t4267\t.\t+\t.\tgene_id \"S1S2\"; transcript_id \"SynLuc1\"; gene_name \"S1S2\"; gene_biotype \"protein_coding\";\n"
     ]
    }
   ],
   "source": [
    "cat Input/S1S2.gtf"
   ]
  },
  {
   "cell_type": "markdown",
   "id": "bceca0f8",
   "metadata": {},
   "source": [
    "### 2. Build a custom genome with the transgene sequences "
   ]
  },
  {
   "cell_type": "markdown",
   "id": "e1c307ba",
   "metadata": {},
   "source": [
    "- Get 10X GEX mm10 Genome: "
   ]
  },
  {
   "cell_type": "code",
   "execution_count": 17,
   "id": "cda047ce",
   "metadata": {},
   "outputs": [],
   "source": [
    "cp /opt/refdata-gex-mm10-2020-A/fasta/genome.fa ./genome_mm10_Camk2aTTA_S1S2.fa"
   ]
  },
  {
   "cell_type": "code",
   "execution_count": 18,
   "id": "754eac85",
   "metadata": {},
   "outputs": [],
   "source": [
    "cp /opt/refdata-gex-mm10-2020-A/genes/genes.gtf ./genes_mm10_Camk2aTTA_S1S2.gtf"
   ]
  },
  {
   "cell_type": "markdown",
   "id": "0855a32f",
   "metadata": {},
   "source": [
    "- Append both transgene's sequences to the Genome mm10 FASTA (genome.fa and genes.gtf were extracted from the 10X mm10 reference **_refdata-gex-mm10-2020-A_**) : "
   ]
  },
  {
   "cell_type": "code",
   "execution_count": 19,
   "id": "df6f0343",
   "metadata": {},
   "outputs": [],
   "source": [
    "cat Input/Camk2a_tTA.fa >> Input/genome_mm10_Camk2aTTA_S1S2.fa"
   ]
  },
  {
   "cell_type": "code",
   "execution_count": 20,
   "id": "4045ac3d",
   "metadata": {},
   "outputs": [],
   "source": [
    "echo -e \"\\n\" >> Input/genome_mm10_Camk2aTTA_S1S2.fa"
   ]
  },
  {
   "cell_type": "code",
   "execution_count": 21,
   "id": "ebd82b71",
   "metadata": {},
   "outputs": [],
   "source": [
    "cat Input/S1S2.fa >> Input/genome_mm10_Camk2aTTA_S1S2.fa"
   ]
  },
  {
   "cell_type": "markdown",
   "id": "f938d11f",
   "metadata": {},
   "source": [
    "Verify custom genome contigs: "
   ]
  },
  {
   "cell_type": "code",
   "execution_count": 22,
   "id": "7abd65e6",
   "metadata": {
    "scrolled": true
   },
   "outputs": [
    {
     "name": "stdout",
     "output_type": "stream",
     "text": [
      "\u001b[01;31m\u001b[K>\u001b[m\u001b[Kchr1 1\n",
      "\u001b[01;31m\u001b[K>\u001b[m\u001b[Kchr10 10\n",
      "\u001b[01;31m\u001b[K>\u001b[m\u001b[Kchr11 11\n",
      "\u001b[01;31m\u001b[K>\u001b[m\u001b[Kchr12 12\n",
      "\u001b[01;31m\u001b[K>\u001b[m\u001b[Kchr13 13\n",
      "\u001b[01;31m\u001b[K>\u001b[m\u001b[Kchr14 14\n",
      "\u001b[01;31m\u001b[K>\u001b[m\u001b[Kchr15 15\n",
      "\u001b[01;31m\u001b[K>\u001b[m\u001b[Kchr16 16\n",
      "\u001b[01;31m\u001b[K>\u001b[m\u001b[Kchr17 17\n",
      "\u001b[01;31m\u001b[K>\u001b[m\u001b[Kchr18 18\n",
      "\u001b[01;31m\u001b[K>\u001b[m\u001b[Kchr19 19\n",
      "\u001b[01;31m\u001b[K>\u001b[m\u001b[Kchr2 2\n",
      "\u001b[01;31m\u001b[K>\u001b[m\u001b[Kchr3 3\n",
      "\u001b[01;31m\u001b[K>\u001b[m\u001b[Kchr4 4\n",
      "\u001b[01;31m\u001b[K>\u001b[m\u001b[Kchr5 5\n",
      "\u001b[01;31m\u001b[K>\u001b[m\u001b[Kchr6 6\n",
      "\u001b[01;31m\u001b[K>\u001b[m\u001b[Kchr7 7\n",
      "\u001b[01;31m\u001b[K>\u001b[m\u001b[Kchr8 8\n",
      "\u001b[01;31m\u001b[K>\u001b[m\u001b[Kchr9 9\n",
      "\u001b[01;31m\u001b[K>\u001b[m\u001b[KchrM MT\n",
      "\u001b[01;31m\u001b[K>\u001b[m\u001b[KchrX X\n",
      "\u001b[01;31m\u001b[K>\u001b[m\u001b[KchrY Y\n",
      "\u001b[01;31m\u001b[K>\u001b[m\u001b[KJH584299.1 JH584299.1\n",
      "\u001b[01;31m\u001b[K>\u001b[m\u001b[KGL456233.1 GL456233.1\n",
      "\u001b[01;31m\u001b[K>\u001b[m\u001b[KJH584301.1 JH584301.1\n",
      "\u001b[01;31m\u001b[K>\u001b[m\u001b[KGL456211.1 GL456211.1\n",
      "\u001b[01;31m\u001b[K>\u001b[m\u001b[KGL456350.1 GL456350.1\n",
      "\u001b[01;31m\u001b[K>\u001b[m\u001b[KJH584293.1 JH584293.1\n",
      "\u001b[01;31m\u001b[K>\u001b[m\u001b[KGL456221.1 GL456221.1\n",
      "\u001b[01;31m\u001b[K>\u001b[m\u001b[KJH584297.1 JH584297.1\n",
      "\u001b[01;31m\u001b[K>\u001b[m\u001b[KJH584296.1 JH584296.1\n",
      "\u001b[01;31m\u001b[K>\u001b[m\u001b[KGL456354.1 GL456354.1\n",
      "\u001b[01;31m\u001b[K>\u001b[m\u001b[KJH584294.1 JH584294.1\n",
      "\u001b[01;31m\u001b[K>\u001b[m\u001b[KJH584298.1 JH584298.1\n",
      "\u001b[01;31m\u001b[K>\u001b[m\u001b[KJH584300.1 JH584300.1\n",
      "\u001b[01;31m\u001b[K>\u001b[m\u001b[KGL456219.1 GL456219.1\n",
      "\u001b[01;31m\u001b[K>\u001b[m\u001b[KGL456210.1 GL456210.1\n",
      "\u001b[01;31m\u001b[K>\u001b[m\u001b[KJH584303.1 JH584303.1\n",
      "\u001b[01;31m\u001b[K>\u001b[m\u001b[KJH584302.1 JH584302.1\n",
      "\u001b[01;31m\u001b[K>\u001b[m\u001b[KGL456212.1 GL456212.1\n",
      "\u001b[01;31m\u001b[K>\u001b[m\u001b[KJH584304.1 JH584304.1\n",
      "\u001b[01;31m\u001b[K>\u001b[m\u001b[KGL456379.1 GL456379.1\n",
      "\u001b[01;31m\u001b[K>\u001b[m\u001b[KGL456216.1 GL456216.1\n",
      "\u001b[01;31m\u001b[K>\u001b[m\u001b[KGL456393.1 GL456393.1\n",
      "\u001b[01;31m\u001b[K>\u001b[m\u001b[KGL456366.1 GL456366.1\n",
      "\u001b[01;31m\u001b[K>\u001b[m\u001b[KGL456367.1 GL456367.1\n",
      "\u001b[01;31m\u001b[K>\u001b[m\u001b[KGL456239.1 GL456239.1\n",
      "\u001b[01;31m\u001b[K>\u001b[m\u001b[KGL456213.1 GL456213.1\n",
      "\u001b[01;31m\u001b[K>\u001b[m\u001b[KGL456383.1 GL456383.1\n",
      "\u001b[01;31m\u001b[K>\u001b[m\u001b[KGL456385.1 GL456385.1\n",
      "\u001b[01;31m\u001b[K>\u001b[m\u001b[KGL456360.1 GL456360.1\n",
      "\u001b[01;31m\u001b[K>\u001b[m\u001b[KGL456378.1 GL456378.1\n",
      "\u001b[01;31m\u001b[K>\u001b[m\u001b[KGL456389.1 GL456389.1\n",
      "\u001b[01;31m\u001b[K>\u001b[m\u001b[KGL456372.1 GL456372.1\n",
      "\u001b[01;31m\u001b[K>\u001b[m\u001b[KGL456370.1 GL456370.1\n",
      "\u001b[01;31m\u001b[K>\u001b[m\u001b[KGL456381.1 GL456381.1\n",
      "\u001b[01;31m\u001b[K>\u001b[m\u001b[KGL456387.1 GL456387.1\n",
      "\u001b[01;31m\u001b[K>\u001b[m\u001b[KGL456390.1 GL456390.1\n",
      "\u001b[01;31m\u001b[K>\u001b[m\u001b[KGL456394.1 GL456394.1\n",
      "\u001b[01;31m\u001b[K>\u001b[m\u001b[KGL456392.1 GL456392.1\n",
      "\u001b[01;31m\u001b[K>\u001b[m\u001b[KGL456382.1 GL456382.1\n",
      "\u001b[01;31m\u001b[K>\u001b[m\u001b[KGL456359.1 GL456359.1\n",
      "\u001b[01;31m\u001b[K>\u001b[m\u001b[KGL456396.1 GL456396.1\n",
      "\u001b[01;31m\u001b[K>\u001b[m\u001b[KGL456368.1 GL456368.1\n",
      "\u001b[01;31m\u001b[K>\u001b[m\u001b[KJH584292.1 JH584292.1\n",
      "\u001b[01;31m\u001b[K>\u001b[m\u001b[KJH584295.1 JH584295.1\n",
      "\u001b[01;31m\u001b[K>\u001b[m\u001b[KCamk2aTTA\n",
      "\u001b[01;31m\u001b[K>\u001b[m\u001b[KS1S2 \n"
     ]
    }
   ],
   "source": [
    "grep \">\" Input/genome_mm10_Camk2aTTA_S1S2.fa"
   ]
  },
  {
   "cell_type": "code",
   "execution_count": 23,
   "id": "c0a76d2c",
   "metadata": {},
   "outputs": [],
   "source": [
    "cat Camk2a_tTA.gtf >> Input/genes_mm10_Camk2aTTA_S1S2.gtf"
   ]
  },
  {
   "cell_type": "code",
   "execution_count": 24,
   "id": "234f04e3",
   "metadata": {},
   "outputs": [],
   "source": [
    "cat S1S2.gtf >> Input/genes_mm10_Camk2aTTA_S1S2.gtf"
   ]
  },
  {
   "cell_type": "markdown",
   "id": "d206b34b",
   "metadata": {},
   "source": [
    "Verify custom genome GTF: "
   ]
  },
  {
   "cell_type": "code",
   "execution_count": 25,
   "id": "b76f1551",
   "metadata": {},
   "outputs": [
    {
     "name": "stdout",
     "output_type": "stream",
     "text": [
      "JH584304.1\tENSEMBL\tUTR\t52691\t54867\t.\t-\t.\tgene_id \"ENSMUSG00000095041\"; gene_version \"7\"; transcript_id \"ENSMUST00000178343\"; transcript_version \"1\"; gene_type \"protein_coding\"; gene_name \"AC149090.1\"; transcript_type \"protein_coding\"; transcript_name \"AC149090.1-202\"; exon_number 4; exon_id \"ENSMUSE00001045433\"; exon_version \"1\"; level 3; protein_id \"ENSMUSP00000136649.1\"; transcript_support_level \"1\"; tag \"basic\";\n",
      "Camk2aTTA\tVeselin\tgene\t6729\t10172\t.\t+\t.\tgene_id \"Camk2aTTA\"; gene_name \"Camk2aTTA\"; gene_biotype \"protein_coding\";\n",
      "Camk2aTTA\tVeselin\ttranscript\t8018\t10172\t.\t+\t.\tgene_id \"Camk2aTTA\"; transcript_id \"tTA\"; gene_name \"Camk2aTTA\"; transcript_name \"tTA\"; transcript_biotype \"protein_coding\"; gene_biotype \"protein_coding\";\n",
      "Camk2aTTA\tVeselin\texon\t8018\t8088\t.\t+\t.\tgene_id \"Camk2aTTA\"; transcript_id \"tTA\"; gene_name \"Camk2aTTA\"; transcript_name \"tTA\"; gene_biotype \"protein_coding\";\n",
      "Camk2aTTA\tVeselin\texon\t8319\t9550\t.\t+\t.\tgene_id \"Camk2aTTA\"; transcript_id \"tTA\"; gene_name \"Camk2aTTA\"; transcript_name \"tTA\"; gene_biotype \"protein_coding\";\n",
      "Camk2aTTA\tVeselin\texon\t9617\t10172\t.\t+\t.\tgene_id \"Camk2aTTA\"; transcript_id \"tTA\"; gene_name \"Camk2aTTA\"; transcript_name \"tTA\"; gene_biotype \"protein_coding\";\n",
      "S1S2\tVeselin\texon\t412\t663\t.\t-\t.\tgene_id \"S1S2\"; transcript_id \"SynLuc2\"; gene_name \"S1S2\"; gene_biotype \"protein_coding\";\n",
      "S1S2\tVeselin\texon\t1237\t2153\t.\t-\t.\tgene_id \"S1S2\"; transcript_id \"SynLuc2\"; gene_name \"S1S2\"; gene_biotype \"protein_coding\";\n",
      "S1S2\tVeselin\texon\t2495\t3442\t.\t+\t.\tgene_id \"S1S2\"; transcript_id \"SynLuc1\"; gene_name \"S1S2\"; gene_biotype \"protein_coding\";\n",
      "S1S2\tVeselin\texon\t4016\t4267\t.\t+\t.\tgene_id \"S1S2\"; transcript_id \"SynLuc1\"; gene_name \"S1S2\"; gene_biotype \"protein_coding\";\n"
     ]
    }
   ],
   "source": [
    "tail Input/genes_mm10_Camk2aTTA_S1S2.gtf"
   ]
  },
  {
   "cell_type": "markdown",
   "id": "719bfb43",
   "metadata": {},
   "source": [
    "### 3.0 Save Genome reference "
   ]
  },
  {
   "cell_type": "code",
   "execution_count": 32,
   "id": "a2d97c8a",
   "metadata": {
    "scrolled": true
   },
   "outputs": [
    {
     "name": "stdout",
     "output_type": "stream",
     "text": [
      "\u001b[01;34mM.Musculus_mm10_Camk2aTTA_S1S2_2.0.0\u001b[0m\n",
      "├── \u001b[01;34mfasta\u001b[0m\n",
      "│   ├── genome.fa\n",
      "│   └── genome.fa.fai\n",
      "├── \u001b[01;34mgenes\u001b[0m\n",
      "│   └── \u001b[01;31mgenes.gtf.gz\u001b[0m\n",
      "├── reference.json\n",
      "└── \u001b[01;34mstar\u001b[0m\n",
      "    ├── chrLength.txt\n",
      "    ├── chrNameLength.txt\n",
      "    ├── chrName.txt\n",
      "    ├── chrStart.txt\n",
      "    ├── exonGeTrInfo.tab\n",
      "    ├── exonInfo.tab\n",
      "    ├── geneInfo.tab\n",
      "    ├── Genome\n",
      "    ├── genomeParameters.txt\n",
      "    ├── SA\n",
      "    ├── SAindex\n",
      "    ├── sjdbInfo.txt\n",
      "    ├── sjdbList.fromGTF.out.tab\n",
      "    ├── sjdbList.out.tab\n",
      "    └── transcriptInfo.tab\n",
      "\n",
      "3 directories, 19 files\n"
     ]
    }
   ],
   "source": [
    "tree M.Musculus_mm10_Camk2aTTA_S1S2_2.0.0"
   ]
  },
  {
   "cell_type": "code",
   "execution_count": null,
   "id": "45f3aa3a",
   "metadata": {},
   "outputs": [],
   "source": [
    "cp -r  M.Musculus_mm10_Camk2aTTA_S1S2_2.0.0 /opt/refdata_spaceranger/"
   ]
  },
  {
   "cell_type": "code",
   "execution_count": 33,
   "id": "6257b342",
   "metadata": {},
   "outputs": [],
   "source": [
    "cp -r M.Musculus_mm10_Camk2aTTA_S1S2_2.0.0 /home/workstation2/NAS/Bioinformatic_Data/Genome_References/SpaceRanger"
   ]
  },
  {
   "cell_type": "code",
   "execution_count": 38,
   "id": "b90ad8ff",
   "metadata": {
    "scrolled": true
   },
   "outputs": [
    {
     "name": "stdout",
     "output_type": "stream",
     "text": [
      "\u001b[01;34m/opt/refdata_spaceranger/M.Musculus_mm10_Camk2aTTA_S1S2_2.0.0\u001b[0m\n",
      "├── \u001b[01;34mfasta\u001b[0m\n",
      "│   ├── genome.fa\n",
      "│   └── genome.fa.fai\n",
      "├── \u001b[01;34mgenes\u001b[0m\n",
      "│   └── \u001b[01;31mgenes.gtf.gz\u001b[0m\n",
      "├── reference.json\n",
      "└── \u001b[01;34mstar\u001b[0m\n",
      "    ├── chrLength.txt\n",
      "    ├── chrNameLength.txt\n",
      "    ├── chrName.txt\n",
      "    ├── chrStart.txt\n",
      "    ├── exonGeTrInfo.tab\n",
      "    ├── exonInfo.tab\n",
      "    ├── geneInfo.tab\n",
      "    ├── Genome\n",
      "    ├── genomeParameters.txt\n",
      "    ├── SA\n",
      "    ├── SAindex\n",
      "    ├── sjdbInfo.txt\n",
      "    ├── sjdbList.fromGTF.out.tab\n",
      "    ├── sjdbList.out.tab\n",
      "    └── transcriptInfo.tab\n",
      "\n",
      "3 directories, 19 files\n"
     ]
    }
   ],
   "source": [
    "tree /opt/refdata_spaceranger/M.Musculus_mm10_Camk2aTTA_S1S2_2.0.0"
   ]
  },
  {
   "cell_type": "markdown",
   "id": "9b02830e",
   "metadata": {},
   "source": [
    "Clean-up: "
   ]
  },
  {
   "cell_type": "markdown",
   "id": "58d7cd6b",
   "metadata": {},
   "source": [
    "### 5.0 Build Genome with Cellranger mkref "
   ]
  },
  {
   "cell_type": "code",
   "execution_count": 41,
   "id": "13d42817",
   "metadata": {},
   "outputs": [
    {
     "name": "stdout",
     "output_type": "stream",
     "text": [
      "['/opt/cellranger-7.1.0/bin/rna/mkref', '--genome=M.Musculus_mm10_Camk2aTTA_S1S2_2.0.0', '--fasta=genome_mm10_Camk2aTTA_S1S2.fa', '--genes=genes_mm10_Camk2aTTA_S1S2.gtf', '--memgb=142', '--nthreads=24']\n",
      "Creating new reference folder at /home/workstation2/Veselin/S1S2_Ref_v2/M.Musculus_mm10_Camk2aTTA_S1S2_2.0.0\n",
      "...done\n",
      "\n",
      "Writing genome FASTA file into reference folder...\n",
      "...done\n",
      "\n",
      "Indexing genome FASTA file...\n",
      "...done\n",
      "\n",
      "Writing genes GTF file into reference folder...\n",
      "...done\n",
      "\n",
      "Generating STAR genome index (may take over 8 core hours for a 3Gb genome)...\n",
      "Feb 12 00:54:02 ..... started STAR run\n",
      "Feb 12 00:54:02 ... starting to generate Genome files\n",
      "Feb 12 00:54:55 ... starting to sort Suffix Array. This may take a long time...\n",
      "Feb 12 00:55:03 ... sorting Suffix Array chunks and saving them to disk...\n",
      "Feb 12 01:01:14 ... loading chunks from disk, packing SA...\n",
      "Feb 12 01:01:57 ... finished generating suffix array\n",
      "Feb 12 01:01:57 ... generating Suffix Array index\n",
      "Feb 12 01:04:54 ... completed Suffix Array index\n",
      "Feb 12 01:04:54 ..... processing annotations GTF\n",
      "Feb 12 01:05:06 ..... inserting junctions into the genome indices\n",
      "Feb 12 01:06:41 ... writing Genome to disk ...\n",
      "Feb 12 01:06:42 ... writing Suffix Array to disk ...\n",
      "Feb 12 01:06:54 ... writing SAindex to disk\n",
      "Feb 12 01:06:56 ..... finished successfully\n",
      "...done.\n",
      "\n",
      "Writing genome metadata JSON file into reference folder...\n",
      "Computing hash of genome FASTA file...\n",
      "...done\n",
      "\n",
      "Computing hash of genes GTF file...\n",
      "...done\n",
      "\n",
      "...done\n",
      "\n",
      ">>> Reference successfully created! <<<\n",
      "\n",
      "You can now specify this reference on the command line:\n",
      "cellranger --transcriptome=/home/workstation2/Veselin/S1S2_Ref_v2/M.Musculus_mm10_Camk2aTTA_S1S2_2.0.0 ...\n"
     ]
    }
   ],
   "source": [
    "cellranger mkref --genome=M.Musculus_mm10_Camk2aTTA_S1S2_2.0.0 \\\n",
    "    --fasta=Input/genome_mm10_Camk2aTTA_S1S2.fa \\\n",
    "    --genes=Input/genes_mm10_Camk2aTTA_S1S2.gtf \\\n",
    "    --memgb=142 \\\n",
    "    --nthreads=24 "
   ]
  },
  {
   "cell_type": "markdown",
   "id": "eb4d6a63",
   "metadata": {},
   "source": [
    "### 6.0 Save Genome reference  "
   ]
  },
  {
   "cell_type": "code",
   "execution_count": 42,
   "id": "5f01d1f4",
   "metadata": {},
   "outputs": [
    {
     "name": "stdout",
     "output_type": "stream",
     "text": [
      "\u001b[01;34mM.Musculus_mm10_Camk2aTTA_S1S2_2.0.0\u001b[0m\n",
      "├── \u001b[01;34mfasta\u001b[0m\n",
      "│   ├── genome.fa\n",
      "│   └── genome.fa.fai\n",
      "├── \u001b[01;34mgenes\u001b[0m\n",
      "│   └── \u001b[01;31mgenes.gtf.gz\u001b[0m\n",
      "├── reference.json\n",
      "└── \u001b[01;34mstar\u001b[0m\n",
      "    ├── chrLength.txt\n",
      "    ├── chrNameLength.txt\n",
      "    ├── chrName.txt\n",
      "    ├── chrStart.txt\n",
      "    ├── exonGeTrInfo.tab\n",
      "    ├── exonInfo.tab\n",
      "    ├── geneInfo.tab\n",
      "    ├── Genome\n",
      "    ├── genomeParameters.txt\n",
      "    ├── SA\n",
      "    ├── SAindex\n",
      "    ├── sjdbInfo.txt\n",
      "    ├── sjdbList.fromGTF.out.tab\n",
      "    ├── sjdbList.out.tab\n",
      "    └── transcriptInfo.tab\n",
      "\n",
      "3 directories, 19 files\n"
     ]
    }
   ],
   "source": [
    "tree M.Musculus_mm10_Camk2aTTA_S1S2_2.0.0"
   ]
  },
  {
   "cell_type": "code",
   "execution_count": null,
   "id": "b2b17693",
   "metadata": {},
   "outputs": [],
   "source": [
    "cp -r  M.Musculus_mm10_Camk2aTTA_S1S2_2.0.0 /opt/ "
   ]
  },
  {
   "cell_type": "code",
   "execution_count": null,
   "id": "53ea5b9f",
   "metadata": {},
   "outputs": [],
   "source": [
    "cp -r M.Musculus_mm10_Camk2aTTA_S1S2_2.0.0 /home/workstation2/NAS/Bioinformatic_Data/Genome_References/CellRanger"
   ]
  },
  {
   "cell_type": "code",
   "execution_count": 43,
   "id": "5392147d",
   "metadata": {},
   "outputs": [
    {
     "name": "stdout",
     "output_type": "stream",
     "text": [
      "\u001b[01;34m/opt/M.Musculus_mm10_Camk2aTTA_S1S2_2.0.0\u001b[0m\n",
      "├── \u001b[01;34mfasta\u001b[0m\n",
      "│   ├── genome.fa\n",
      "│   └── genome.fa.fai\n",
      "├── \u001b[01;34mgenes\u001b[0m\n",
      "│   └── \u001b[01;31mgenes.gtf.gz\u001b[0m\n",
      "├── reference.json\n",
      "└── \u001b[01;34mstar\u001b[0m\n",
      "    ├── chrLength.txt\n",
      "    ├── chrNameLength.txt\n",
      "    ├── chrName.txt\n",
      "    ├── chrStart.txt\n",
      "    ├── exonGeTrInfo.tab\n",
      "    ├── exonInfo.tab\n",
      "    ├── geneInfo.tab\n",
      "    ├── Genome\n",
      "    ├── genomeParameters.txt\n",
      "    ├── SA\n",
      "    ├── SAindex\n",
      "    ├── sjdbInfo.txt\n",
      "    ├── sjdbList.fromGTF.out.tab\n",
      "    ├── sjdbList.out.tab\n",
      "    └── transcriptInfo.tab\n",
      "\n",
      "3 directories, 19 files\n"
     ]
    }
   ],
   "source": [
    "tree /opt/M.Musculus_mm10_Camk2aTTA_S1S2_2.0.0"
   ]
  },
  {
   "cell_type": "markdown",
   "id": "0ab0f0d1",
   "metadata": {},
   "source": [
    "Clean-up: "
   ]
  },
  {
   "cell_type": "code",
   "execution_count": null,
   "id": "d4c93095",
   "metadata": {},
   "outputs": [],
   "source": [
    "rm -r M.Musculus_mm10_Camk2aTTA_S1S2_2.0.0"
   ]
  },
  {
   "cell_type": "markdown",
   "id": "5d74be11",
   "metadata": {},
   "source": [
    "**# Changelog**\n",
    "\n",
    "\\# v1.0 VG 09.02.23 -> Initial commit  \n",
    "\\# v2.0 VG 12.02.23 -> V2.0 Update, GTF re-formatted to encode both SNCA_L1 and SNCA_L2 transcript on the same gene based on analysis of the alignments on v1.0 \n"
   ]
  },
  {
   "cell_type": "code",
   "execution_count": null,
   "id": "d289a44d",
   "metadata": {},
   "outputs": [],
   "source": []
  }
 ],
 "metadata": {
  "kernelspec": {
   "display_name": "Bash",
   "language": "bash",
   "name": "bash"
  },
  "language_info": {
   "codemirror_mode": "shell",
   "file_extension": ".sh",
   "mimetype": "text/x-sh",
   "name": "bash"
  }
 },
 "nbformat": 4,
 "nbformat_minor": 5
}
